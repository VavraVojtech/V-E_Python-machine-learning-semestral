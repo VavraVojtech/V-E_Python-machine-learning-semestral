{
 "cells": [
  {
   "cell_type": "markdown",
   "metadata": {},
   "source": [
    "<h1><center>\n",
    "Semestrální práce z 4IZ566\n",
    "    \n",
    "## IBM HR Analytics Employee Attrition & Performance\n",
    "    \n",
    "### Jan Malý & Vojtěch Vávra</h1></center>\n",
    "\n",
    "#### Budeme hledat:\n",
    "* 1) nejlepší interpretovatelnost parametru\n",
    "* 2) Nejnižší False Negative Rate, protože je nažádoucí špatně označit člověka co má úmysl odejít z práce jako člověka, který by chtěl zůstat\n",
    "\n",
    "\n",
    "#### Použijeme k tomu:\n",
    "* 1) Logistickou regresi\n",
    "* 2) Rozhodovací strom\n",
    "* 3) XGBOOST\n",
    "\n",
    "#### Zdroj dat:\n",
    "* https://www.kaggle.com/pavansubhasht/ibm-hr-analytics-attrition-dataset"
   ]
  },
  {
   "cell_type": "markdown",
   "metadata": {},
   "source": [
    "### Naimpotrujeme si balíčky"
   ]
  },
  {
   "cell_type": "code",
   "execution_count": 1,
   "metadata": {},
   "outputs": [],
   "source": [
    "import pandas as pd # used for working with data sets\n",
    "import numpy as np # used for working with arrays\n",
    "import time #for timing\n",
    "from math import e\n",
    "\n",
    "import matplotlib.pyplot as plt # used for plotting\n",
    "import sklearn.metrics as metrics # Different evaluation metrics\n",
    "import pickle\n",
    "import xgboost as xgb"
   ]
  },
  {
   "cell_type": "markdown",
   "metadata": {},
   "source": [
    "### Vytáhneme funkce a modely"
   ]
  },
  {
   "cell_type": "code",
   "execution_count": 2,
   "metadata": {},
   "outputs": [],
   "source": [
    "# Usefull functions\n",
    "from sklearn.model_selection import train_test_split # for split of data into training and testing part\n",
    "from sklearn.metrics import mean_squared_error # MSE\n",
    "from itertools import product #for expand grid\n",
    "from sklearn.model_selection import GridSearchCV\n",
    "from sklearn.metrics import plot_confusion_matrix\n",
    "from sklearn.datasets import make_classification\n",
    "from sklearn.model_selection import train_test_split\n",
    "from sklearn.svm import SVC\n",
    "from sklearn import tree\n",
    "from sklearn.metrics import accuracy_score\n",
    "\n",
    "\n",
    "#pro interpretaci koeficientů\n",
    "from sklearn.linear_model import LogisticRegression\n",
    "from sklearn.datasets import load_iris\n",
    "\n",
    "# Used models\n",
    "from sklearn.linear_model import ElasticNet # Elasticnet regression\n",
    "from sklearn.metrics import confusion_matrix\n",
    "from sklearn.tree import DecisionTreeRegressor\n",
    "from sklearn.tree import DecisionTreeClassifier\n",
    "from sklearn.linear_model import LogisticRegression # Logistic regression"
   ]
  },
  {
   "cell_type": "markdown",
   "metadata": {},
   "source": [
    "# 0) Úvodní práce s daty\n",
    "* zahození nepotřebných dat\n",
    "* příprava dummy proměných"
   ]
  },
  {
   "cell_type": "markdown",
   "metadata": {},
   "source": [
    "### Zasejeme\n",
    "* pro stálost výsledků"
   ]
  },
  {
   "cell_type": "code",
   "execution_count": 3,
   "metadata": {},
   "outputs": [],
   "source": [
    "SEED=1512"
   ]
  },
  {
   "cell_type": "markdown",
   "metadata": {},
   "source": [
    "### Importace dat pro oba dva pracovníky zvlášť"
   ]
  },
  {
   "cell_type": "code",
   "execution_count": 4,
   "metadata": {},
   "outputs": [],
   "source": [
    "# Honza\n",
    "#path_to_data = \"C:/Users/honza/OneDrive/Desktop/Ing. - 3.semestr/Python a R/IBM_data.csv\"\n",
    "# Vojta\n",
    "path_to_data = \"D:/Documents/FIS VŠE/02 MAGISTR/3. semestr/Python a R/Python/semestralka/IBM_data.csv\"\n",
    "\n",
    "data = pd.read_csv(path_to_data)\n",
    "data_dummy = pd.read_csv(path_to_data)"
   ]
  },
  {
   "cell_type": "markdown",
   "metadata": {},
   "source": [
    "### Zahodíme nepotřebné\n",
    "\n",
    "* DailyRate, Monthly Income a MonthlyRate dropnuto protože bude používání proměnná HourlyRate\n",
    "* EmployeeCount je ve všech řádcích 1, EmployeeNumber je ID\n",
    "* Over18 a StandartHours jsou ve všech pozorováních stejná (Yes a 80)"
   ]
  },
  {
   "cell_type": "code",
   "execution_count": 5,
   "metadata": {},
   "outputs": [],
   "source": [
    "data = data.drop(['DailyRate','EmployeeCount','EmployeeNumber','MonthlyIncome','MonthlyRate','Over18','StandardHours'],axis=1)\n",
    "data['Attrition']=data['Attrition']=='Yes'\n",
    "\n",
    "data_dummy = data_dummy.drop(['DailyRate','EmployeeCount','EmployeeNumber','MonthlyIncome','MonthlyRate','Over18','StandardHours'],axis=1)\n",
    "data_dummy['Attrition']=data_dummy['Attrition']=='Yes'"
   ]
  },
  {
   "cell_type": "markdown",
   "metadata": {},
   "source": [
    "### Drobná úprava názvů sloupců\n",
    "* pro lepší práci\n",
    "* a zahození již nepotřebných údajů"
   ]
  },
  {
   "cell_type": "code",
   "execution_count": 6,
   "metadata": {},
   "outputs": [],
   "source": [
    "travel_mapping={'Travel_Rarely':2,'Travel_Frequently':3,'Non-Travel':1}\n",
    "\n",
    "\n",
    "data_dummy['Male']=data_dummy['Gender']=='Male'\n",
    "data_dummy['BusinessTravel']=data_dummy['BusinessTravel'].map(travel_mapping)\n",
    "data_dummy['Sales']=data_dummy['Department']=='Sales'\n",
    "data_dummy['R&D']=data_dummy['Department']=='Research & Development'\n",
    "data_dummy['HR']=data_dummy['Department']=='Human Resources'\n",
    "data_dummy['EDU_LS']=data_dummy['EducationField']=='Life Sciences'\n",
    "data_dummy['EDU_Oth']=data_dummy['EducationField']=='Other'\n",
    "data_dummy['EDU_Med']=data_dummy['EducationField']=='Medical'\n",
    "data_dummy['EDU_Mark']=data_dummy['EducationField']=='Marketing'\n",
    "data_dummy['EDU_Tech']=data_dummy['EducationField']=='Technical Degree'\n",
    "data_dummy['EDU_HR']=data_dummy['EducationField']=='Human Resources'\n",
    "data_dummy['JOB_SE']=data_dummy['JobRole']=='Sales Executive'\n",
    "data_dummy['JOB_RS']=data_dummy['JobRole']=='Research Scientist'\n",
    "data_dummy['JOB_LT']=data_dummy['JobRole']=='Laboratory Technician'\n",
    "data_dummy['JOB_MD']=data_dummy['JobRole']=='Manufacturing Director'\n",
    "data_dummy['JOB_HCR']=data_dummy['JobRole']=='Healthcare Representative'\n",
    "data_dummy['JOB_MA']=data_dummy['JobRole']=='Manager'\n",
    "data_dummy['JOB_SR']=data_dummy['JobRole']=='Sales Representative'\n",
    "data_dummy['JOB_RD']=data_dummy['JobRole']=='Research Director'\n",
    "data_dummy['JOB_HR']=data_dummy['JobRole']=='Human Resources'\n",
    "data_dummy['Single']=data_dummy['MaritalStatus']=='Single'\n",
    "data_dummy['Married']=data_dummy['MaritalStatus']=='Married'\n",
    "data_dummy['Divorced']=data_dummy['MaritalStatus']=='Divorced'\n",
    "data_dummy['OverTime']=data_dummy['OverTime']=='Yes'\n",
    "\n",
    "data_dummy=data_dummy.drop(['Gender','Department','EducationField','JobRole','MaritalStatus'],axis=1)"
   ]
  },
  {
   "cell_type": "markdown",
   "metadata": {},
   "source": [
    "### Uložení dat\n",
    "* opět každý má svoji cestu"
   ]
  },
  {
   "cell_type": "code",
   "execution_count": 7,
   "metadata": {},
   "outputs": [],
   "source": [
    "# Honza\n",
    "#data_dummy.to_csv(\"C:/Users/honza/OneDrive/Desktop/Ing. - 3.semestr/Python a R/IBM_data_dummy.csv\")\n",
    "# Vojta\n",
    "#data_dummy.to_csv(\"D:/Documents/FIS VŠE/02 MAGISTR/3. semestr/Python a R/Python/semestralka/IBM_data_dummy.csv\")"
   ]
  },
  {
   "cell_type": "markdown",
   "metadata": {},
   "source": [
    "### Zobrazení dat"
   ]
  },
  {
   "cell_type": "code",
   "execution_count": 8,
   "metadata": {},
   "outputs": [
    {
     "data": {
      "text/html": [
       "<div>\n",
       "<style scoped>\n",
       "    .dataframe tbody tr th:only-of-type {\n",
       "        vertical-align: middle;\n",
       "    }\n",
       "\n",
       "    .dataframe tbody tr th {\n",
       "        vertical-align: top;\n",
       "    }\n",
       "\n",
       "    .dataframe thead th {\n",
       "        text-align: right;\n",
       "    }\n",
       "</style>\n",
       "<table border=\"1\" class=\"dataframe\">\n",
       "  <thead>\n",
       "    <tr style=\"text-align: right;\">\n",
       "      <th></th>\n",
       "      <th>Age</th>\n",
       "      <th>Attrition</th>\n",
       "      <th>BusinessTravel</th>\n",
       "      <th>Department</th>\n",
       "      <th>DistanceFromHome</th>\n",
       "      <th>Education</th>\n",
       "      <th>EducationField</th>\n",
       "      <th>EnvironmentSatisfaction</th>\n",
       "      <th>Gender</th>\n",
       "      <th>HourlyRate</th>\n",
       "      <th>...</th>\n",
       "      <th>PerformanceRating</th>\n",
       "      <th>RelationshipSatisfaction</th>\n",
       "      <th>StockOptionLevel</th>\n",
       "      <th>TotalWorkingYears</th>\n",
       "      <th>TrainingTimesLastYear</th>\n",
       "      <th>WorkLifeBalance</th>\n",
       "      <th>YearsAtCompany</th>\n",
       "      <th>YearsInCurrentRole</th>\n",
       "      <th>YearsSinceLastPromotion</th>\n",
       "      <th>YearsWithCurrManager</th>\n",
       "    </tr>\n",
       "  </thead>\n",
       "  <tbody>\n",
       "    <tr>\n",
       "      <th>0</th>\n",
       "      <td>41</td>\n",
       "      <td>True</td>\n",
       "      <td>Travel_Rarely</td>\n",
       "      <td>Sales</td>\n",
       "      <td>1</td>\n",
       "      <td>2</td>\n",
       "      <td>Life Sciences</td>\n",
       "      <td>2</td>\n",
       "      <td>Female</td>\n",
       "      <td>94</td>\n",
       "      <td>...</td>\n",
       "      <td>3</td>\n",
       "      <td>1</td>\n",
       "      <td>0</td>\n",
       "      <td>8</td>\n",
       "      <td>0</td>\n",
       "      <td>1</td>\n",
       "      <td>6</td>\n",
       "      <td>4</td>\n",
       "      <td>0</td>\n",
       "      <td>5</td>\n",
       "    </tr>\n",
       "    <tr>\n",
       "      <th>1</th>\n",
       "      <td>49</td>\n",
       "      <td>False</td>\n",
       "      <td>Travel_Frequently</td>\n",
       "      <td>Research &amp; Development</td>\n",
       "      <td>8</td>\n",
       "      <td>1</td>\n",
       "      <td>Life Sciences</td>\n",
       "      <td>3</td>\n",
       "      <td>Male</td>\n",
       "      <td>61</td>\n",
       "      <td>...</td>\n",
       "      <td>4</td>\n",
       "      <td>4</td>\n",
       "      <td>1</td>\n",
       "      <td>10</td>\n",
       "      <td>3</td>\n",
       "      <td>3</td>\n",
       "      <td>10</td>\n",
       "      <td>7</td>\n",
       "      <td>1</td>\n",
       "      <td>7</td>\n",
       "    </tr>\n",
       "    <tr>\n",
       "      <th>2</th>\n",
       "      <td>37</td>\n",
       "      <td>True</td>\n",
       "      <td>Travel_Rarely</td>\n",
       "      <td>Research &amp; Development</td>\n",
       "      <td>2</td>\n",
       "      <td>2</td>\n",
       "      <td>Other</td>\n",
       "      <td>4</td>\n",
       "      <td>Male</td>\n",
       "      <td>92</td>\n",
       "      <td>...</td>\n",
       "      <td>3</td>\n",
       "      <td>2</td>\n",
       "      <td>0</td>\n",
       "      <td>7</td>\n",
       "      <td>3</td>\n",
       "      <td>3</td>\n",
       "      <td>0</td>\n",
       "      <td>0</td>\n",
       "      <td>0</td>\n",
       "      <td>0</td>\n",
       "    </tr>\n",
       "    <tr>\n",
       "      <th>3</th>\n",
       "      <td>33</td>\n",
       "      <td>False</td>\n",
       "      <td>Travel_Frequently</td>\n",
       "      <td>Research &amp; Development</td>\n",
       "      <td>3</td>\n",
       "      <td>4</td>\n",
       "      <td>Life Sciences</td>\n",
       "      <td>4</td>\n",
       "      <td>Female</td>\n",
       "      <td>56</td>\n",
       "      <td>...</td>\n",
       "      <td>3</td>\n",
       "      <td>3</td>\n",
       "      <td>0</td>\n",
       "      <td>8</td>\n",
       "      <td>3</td>\n",
       "      <td>3</td>\n",
       "      <td>8</td>\n",
       "      <td>7</td>\n",
       "      <td>3</td>\n",
       "      <td>0</td>\n",
       "    </tr>\n",
       "    <tr>\n",
       "      <th>4</th>\n",
       "      <td>27</td>\n",
       "      <td>False</td>\n",
       "      <td>Travel_Rarely</td>\n",
       "      <td>Research &amp; Development</td>\n",
       "      <td>2</td>\n",
       "      <td>1</td>\n",
       "      <td>Medical</td>\n",
       "      <td>1</td>\n",
       "      <td>Male</td>\n",
       "      <td>40</td>\n",
       "      <td>...</td>\n",
       "      <td>3</td>\n",
       "      <td>4</td>\n",
       "      <td>1</td>\n",
       "      <td>6</td>\n",
       "      <td>3</td>\n",
       "      <td>3</td>\n",
       "      <td>2</td>\n",
       "      <td>2</td>\n",
       "      <td>2</td>\n",
       "      <td>2</td>\n",
       "    </tr>\n",
       "  </tbody>\n",
       "</table>\n",
       "<p>5 rows × 28 columns</p>\n",
       "</div>"
      ],
      "text/plain": [
       "   Age  Attrition     BusinessTravel              Department  \\\n",
       "0   41       True      Travel_Rarely                   Sales   \n",
       "1   49      False  Travel_Frequently  Research & Development   \n",
       "2   37       True      Travel_Rarely  Research & Development   \n",
       "3   33      False  Travel_Frequently  Research & Development   \n",
       "4   27      False      Travel_Rarely  Research & Development   \n",
       "\n",
       "   DistanceFromHome  Education EducationField  EnvironmentSatisfaction  \\\n",
       "0                 1          2  Life Sciences                        2   \n",
       "1                 8          1  Life Sciences                        3   \n",
       "2                 2          2          Other                        4   \n",
       "3                 3          4  Life Sciences                        4   \n",
       "4                 2          1        Medical                        1   \n",
       "\n",
       "   Gender  HourlyRate  ...  PerformanceRating  RelationshipSatisfaction  \\\n",
       "0  Female          94  ...                  3                         1   \n",
       "1    Male          61  ...                  4                         4   \n",
       "2    Male          92  ...                  3                         2   \n",
       "3  Female          56  ...                  3                         3   \n",
       "4    Male          40  ...                  3                         4   \n",
       "\n",
       "  StockOptionLevel  TotalWorkingYears TrainingTimesLastYear  WorkLifeBalance  \\\n",
       "0                0                  8                     0                1   \n",
       "1                1                 10                     3                3   \n",
       "2                0                  7                     3                3   \n",
       "3                0                  8                     3                3   \n",
       "4                1                  6                     3                3   \n",
       "\n",
       "  YearsAtCompany  YearsInCurrentRole  YearsSinceLastPromotion  \\\n",
       "0              6                   4                        0   \n",
       "1             10                   7                        1   \n",
       "2              0                   0                        0   \n",
       "3              8                   7                        3   \n",
       "4              2                   2                        2   \n",
       "\n",
       "   YearsWithCurrManager  \n",
       "0                     5  \n",
       "1                     7  \n",
       "2                     0  \n",
       "3                     0  \n",
       "4                     2  \n",
       "\n",
       "[5 rows x 28 columns]"
      ]
     },
     "execution_count": 8,
     "metadata": {},
     "output_type": "execute_result"
    }
   ],
   "source": [
    "data.head()"
   ]
  },
  {
   "cell_type": "code",
   "execution_count": 9,
   "metadata": {},
   "outputs": [
    {
     "data": {
      "text/html": [
       "<div>\n",
       "<style scoped>\n",
       "    .dataframe tbody tr th:only-of-type {\n",
       "        vertical-align: middle;\n",
       "    }\n",
       "\n",
       "    .dataframe tbody tr th {\n",
       "        vertical-align: top;\n",
       "    }\n",
       "\n",
       "    .dataframe thead th {\n",
       "        text-align: right;\n",
       "    }\n",
       "</style>\n",
       "<table border=\"1\" class=\"dataframe\">\n",
       "  <thead>\n",
       "    <tr style=\"text-align: right;\">\n",
       "      <th></th>\n",
       "      <th>Age</th>\n",
       "      <th>Attrition</th>\n",
       "      <th>BusinessTravel</th>\n",
       "      <th>DistanceFromHome</th>\n",
       "      <th>Education</th>\n",
       "      <th>EnvironmentSatisfaction</th>\n",
       "      <th>HourlyRate</th>\n",
       "      <th>JobInvolvement</th>\n",
       "      <th>JobLevel</th>\n",
       "      <th>JobSatisfaction</th>\n",
       "      <th>...</th>\n",
       "      <th>JOB_LT</th>\n",
       "      <th>JOB_MD</th>\n",
       "      <th>JOB_HCR</th>\n",
       "      <th>JOB_MA</th>\n",
       "      <th>JOB_SR</th>\n",
       "      <th>JOB_RD</th>\n",
       "      <th>JOB_HR</th>\n",
       "      <th>Single</th>\n",
       "      <th>Married</th>\n",
       "      <th>Divorced</th>\n",
       "    </tr>\n",
       "  </thead>\n",
       "  <tbody>\n",
       "    <tr>\n",
       "      <th>0</th>\n",
       "      <td>41</td>\n",
       "      <td>True</td>\n",
       "      <td>2</td>\n",
       "      <td>1</td>\n",
       "      <td>2</td>\n",
       "      <td>2</td>\n",
       "      <td>94</td>\n",
       "      <td>3</td>\n",
       "      <td>2</td>\n",
       "      <td>4</td>\n",
       "      <td>...</td>\n",
       "      <td>False</td>\n",
       "      <td>False</td>\n",
       "      <td>False</td>\n",
       "      <td>False</td>\n",
       "      <td>False</td>\n",
       "      <td>False</td>\n",
       "      <td>False</td>\n",
       "      <td>True</td>\n",
       "      <td>False</td>\n",
       "      <td>False</td>\n",
       "    </tr>\n",
       "    <tr>\n",
       "      <th>1</th>\n",
       "      <td>49</td>\n",
       "      <td>False</td>\n",
       "      <td>3</td>\n",
       "      <td>8</td>\n",
       "      <td>1</td>\n",
       "      <td>3</td>\n",
       "      <td>61</td>\n",
       "      <td>2</td>\n",
       "      <td>2</td>\n",
       "      <td>2</td>\n",
       "      <td>...</td>\n",
       "      <td>False</td>\n",
       "      <td>False</td>\n",
       "      <td>False</td>\n",
       "      <td>False</td>\n",
       "      <td>False</td>\n",
       "      <td>False</td>\n",
       "      <td>False</td>\n",
       "      <td>False</td>\n",
       "      <td>True</td>\n",
       "      <td>False</td>\n",
       "    </tr>\n",
       "    <tr>\n",
       "      <th>2</th>\n",
       "      <td>37</td>\n",
       "      <td>True</td>\n",
       "      <td>2</td>\n",
       "      <td>2</td>\n",
       "      <td>2</td>\n",
       "      <td>4</td>\n",
       "      <td>92</td>\n",
       "      <td>2</td>\n",
       "      <td>1</td>\n",
       "      <td>3</td>\n",
       "      <td>...</td>\n",
       "      <td>True</td>\n",
       "      <td>False</td>\n",
       "      <td>False</td>\n",
       "      <td>False</td>\n",
       "      <td>False</td>\n",
       "      <td>False</td>\n",
       "      <td>False</td>\n",
       "      <td>True</td>\n",
       "      <td>False</td>\n",
       "      <td>False</td>\n",
       "    </tr>\n",
       "    <tr>\n",
       "      <th>3</th>\n",
       "      <td>33</td>\n",
       "      <td>False</td>\n",
       "      <td>3</td>\n",
       "      <td>3</td>\n",
       "      <td>4</td>\n",
       "      <td>4</td>\n",
       "      <td>56</td>\n",
       "      <td>3</td>\n",
       "      <td>1</td>\n",
       "      <td>3</td>\n",
       "      <td>...</td>\n",
       "      <td>False</td>\n",
       "      <td>False</td>\n",
       "      <td>False</td>\n",
       "      <td>False</td>\n",
       "      <td>False</td>\n",
       "      <td>False</td>\n",
       "      <td>False</td>\n",
       "      <td>False</td>\n",
       "      <td>True</td>\n",
       "      <td>False</td>\n",
       "    </tr>\n",
       "    <tr>\n",
       "      <th>4</th>\n",
       "      <td>27</td>\n",
       "      <td>False</td>\n",
       "      <td>2</td>\n",
       "      <td>2</td>\n",
       "      <td>1</td>\n",
       "      <td>1</td>\n",
       "      <td>40</td>\n",
       "      <td>3</td>\n",
       "      <td>1</td>\n",
       "      <td>2</td>\n",
       "      <td>...</td>\n",
       "      <td>True</td>\n",
       "      <td>False</td>\n",
       "      <td>False</td>\n",
       "      <td>False</td>\n",
       "      <td>False</td>\n",
       "      <td>False</td>\n",
       "      <td>False</td>\n",
       "      <td>False</td>\n",
       "      <td>True</td>\n",
       "      <td>False</td>\n",
       "    </tr>\n",
       "  </tbody>\n",
       "</table>\n",
       "<p>5 rows × 45 columns</p>\n",
       "</div>"
      ],
      "text/plain": [
       "   Age  Attrition  BusinessTravel  DistanceFromHome  Education  \\\n",
       "0   41       True               2                 1          2   \n",
       "1   49      False               3                 8          1   \n",
       "2   37       True               2                 2          2   \n",
       "3   33      False               3                 3          4   \n",
       "4   27      False               2                 2          1   \n",
       "\n",
       "   EnvironmentSatisfaction  HourlyRate  JobInvolvement  JobLevel  \\\n",
       "0                        2          94               3         2   \n",
       "1                        3          61               2         2   \n",
       "2                        4          92               2         1   \n",
       "3                        4          56               3         1   \n",
       "4                        1          40               3         1   \n",
       "\n",
       "   JobSatisfaction  ...  JOB_LT  JOB_MD  JOB_HCR  JOB_MA  JOB_SR  JOB_RD  \\\n",
       "0                4  ...   False   False    False   False   False   False   \n",
       "1                2  ...   False   False    False   False   False   False   \n",
       "2                3  ...    True   False    False   False   False   False   \n",
       "3                3  ...   False   False    False   False   False   False   \n",
       "4                2  ...    True   False    False   False   False   False   \n",
       "\n",
       "   JOB_HR  Single  Married  Divorced  \n",
       "0   False    True    False     False  \n",
       "1   False   False     True     False  \n",
       "2   False    True    False     False  \n",
       "3   False   False     True     False  \n",
       "4   False   False     True     False  \n",
       "\n",
       "[5 rows x 45 columns]"
      ]
     },
     "execution_count": 9,
     "metadata": {},
     "output_type": "execute_result"
    }
   ],
   "source": [
    "data_dummy.head()"
   ]
  },
  {
   "cell_type": "markdown",
   "metadata": {},
   "source": [
    "## Rozdělení dat na trénovací a testovací"
   ]
  },
  {
   "cell_type": "code",
   "execution_count": 10,
   "metadata": {},
   "outputs": [
    {
     "data": {
      "text/plain": [
       "['Age',\n",
       " 'BusinessTravel',\n",
       " 'DistanceFromHome',\n",
       " 'Education',\n",
       " 'EnvironmentSatisfaction',\n",
       " 'HourlyRate',\n",
       " 'JobInvolvement',\n",
       " 'JobLevel',\n",
       " 'JobSatisfaction',\n",
       " 'NumCompaniesWorked',\n",
       " 'OverTime',\n",
       " 'PercentSalaryHike',\n",
       " 'PerformanceRating',\n",
       " 'RelationshipSatisfaction',\n",
       " 'StockOptionLevel',\n",
       " 'TotalWorkingYears',\n",
       " 'TrainingTimesLastYear',\n",
       " 'WorkLifeBalance',\n",
       " 'YearsAtCompany',\n",
       " 'YearsInCurrentRole',\n",
       " 'YearsSinceLastPromotion',\n",
       " 'YearsWithCurrManager',\n",
       " 'Male',\n",
       " 'Sales',\n",
       " 'R&D',\n",
       " 'HR',\n",
       " 'EDU_LS',\n",
       " 'EDU_Oth',\n",
       " 'EDU_Med',\n",
       " 'EDU_Mark',\n",
       " 'EDU_Tech',\n",
       " 'EDU_HR',\n",
       " 'JOB_SE',\n",
       " 'JOB_RS',\n",
       " 'JOB_LT',\n",
       " 'JOB_MD',\n",
       " 'JOB_HCR',\n",
       " 'JOB_MA',\n",
       " 'JOB_SR',\n",
       " 'JOB_RD',\n",
       " 'JOB_HR',\n",
       " 'Single',\n",
       " 'Married',\n",
       " 'Divorced']"
      ]
     },
     "execution_count": 10,
     "metadata": {},
     "output_type": "execute_result"
    }
   ],
   "source": [
    "train_ratio = 0.70\n",
    "test_ratio = 0.30\n",
    "\n",
    "# Split the dataset into training_validation and testing part\n",
    "X_train, X_test, y_train, y_test = train_test_split(\n",
    "    data_dummy.drop(['Attrition'], axis = 1), # explanatory variable\n",
    "    data_dummy[['Attrition']], # response variable\n",
    "    test_size = test_ratio, # hold out size\n",
    "    random_state = SEED\n",
    "    )\n",
    "\n",
    "x_lab=list(X_train)\n",
    "x_lab"
   ]
  },
  {
   "cell_type": "markdown",
   "metadata": {},
   "source": [
    "### Podíváme se na pár grafů"
   ]
  },
  {
   "cell_type": "code",
   "execution_count": 11,
   "metadata": {},
   "outputs": [
    {
     "name": "stdout",
     "output_type": "stream",
     "text": [
      "<class 'pandas.core.frame.DataFrame'>\n",
      "RangeIndex: 1470 entries, 0 to 1469\n",
      "Data columns (total 45 columns):\n",
      " #   Column                    Non-Null Count  Dtype\n",
      "---  ------                    --------------  -----\n",
      " 0   Age                       1470 non-null   int64\n",
      " 1   Attrition                 1470 non-null   bool \n",
      " 2   BusinessTravel            1470 non-null   int64\n",
      " 3   DistanceFromHome          1470 non-null   int64\n",
      " 4   Education                 1470 non-null   int64\n",
      " 5   EnvironmentSatisfaction   1470 non-null   int64\n",
      " 6   HourlyRate                1470 non-null   int64\n",
      " 7   JobInvolvement            1470 non-null   int64\n",
      " 8   JobLevel                  1470 non-null   int64\n",
      " 9   JobSatisfaction           1470 non-null   int64\n",
      " 10  NumCompaniesWorked        1470 non-null   int64\n",
      " 11  OverTime                  1470 non-null   bool \n",
      " 12  PercentSalaryHike         1470 non-null   int64\n",
      " 13  PerformanceRating         1470 non-null   int64\n",
      " 14  RelationshipSatisfaction  1470 non-null   int64\n",
      " 15  StockOptionLevel          1470 non-null   int64\n",
      " 16  TotalWorkingYears         1470 non-null   int64\n",
      " 17  TrainingTimesLastYear     1470 non-null   int64\n",
      " 18  WorkLifeBalance           1470 non-null   int64\n",
      " 19  YearsAtCompany            1470 non-null   int64\n",
      " 20  YearsInCurrentRole        1470 non-null   int64\n",
      " 21  YearsSinceLastPromotion   1470 non-null   int64\n",
      " 22  YearsWithCurrManager      1470 non-null   int64\n",
      " 23  Male                      1470 non-null   bool \n",
      " 24  Sales                     1470 non-null   bool \n",
      " 25  R&D                       1470 non-null   bool \n",
      " 26  HR                        1470 non-null   bool \n",
      " 27  EDU_LS                    1470 non-null   bool \n",
      " 28  EDU_Oth                   1470 non-null   bool \n",
      " 29  EDU_Med                   1470 non-null   bool \n",
      " 30  EDU_Mark                  1470 non-null   bool \n",
      " 31  EDU_Tech                  1470 non-null   bool \n",
      " 32  EDU_HR                    1470 non-null   bool \n",
      " 33  JOB_SE                    1470 non-null   bool \n",
      " 34  JOB_RS                    1470 non-null   bool \n",
      " 35  JOB_LT                    1470 non-null   bool \n",
      " 36  JOB_MD                    1470 non-null   bool \n",
      " 37  JOB_HCR                   1470 non-null   bool \n",
      " 38  JOB_MA                    1470 non-null   bool \n",
      " 39  JOB_SR                    1470 non-null   bool \n",
      " 40  JOB_RD                    1470 non-null   bool \n",
      " 41  JOB_HR                    1470 non-null   bool \n",
      " 42  Single                    1470 non-null   bool \n",
      " 43  Married                   1470 non-null   bool \n",
      " 44  Divorced                  1470 non-null   bool \n",
      "dtypes: bool(24), int64(21)\n",
      "memory usage: 275.8 KB\n",
      "Age                         0\n",
      "Attrition                   0\n",
      "BusinessTravel              0\n",
      "DistanceFromHome            0\n",
      "Education                   0\n",
      "EnvironmentSatisfaction     0\n",
      "HourlyRate                  0\n",
      "JobInvolvement              0\n",
      "JobLevel                    0\n",
      "JobSatisfaction             0\n",
      "NumCompaniesWorked          0\n",
      "OverTime                    0\n",
      "PercentSalaryHike           0\n",
      "PerformanceRating           0\n",
      "RelationshipSatisfaction    0\n",
      "StockOptionLevel            0\n",
      "TotalWorkingYears           0\n",
      "TrainingTimesLastYear       0\n",
      "WorkLifeBalance             0\n",
      "YearsAtCompany              0\n",
      "YearsInCurrentRole          0\n",
      "YearsSinceLastPromotion     0\n",
      "YearsWithCurrManager        0\n",
      "Male                        0\n",
      "Sales                       0\n",
      "R&D                         0\n",
      "HR                          0\n",
      "EDU_LS                      0\n",
      "EDU_Oth                     0\n",
      "EDU_Med                     0\n",
      "EDU_Mark                    0\n",
      "EDU_Tech                    0\n",
      "EDU_HR                      0\n",
      "JOB_SE                      0\n",
      "JOB_RS                      0\n",
      "JOB_LT                      0\n",
      "JOB_MD                      0\n",
      "JOB_HCR                     0\n",
      "JOB_MA                      0\n",
      "JOB_SR                      0\n",
      "JOB_RD                      0\n",
      "JOB_HR                      0\n",
      "Single                      0\n",
      "Married                     0\n",
      "Divorced                    0\n",
      "dtype: int64\n"
     ]
    }
   ],
   "source": [
    "data_dummy.info()\n",
    "print(data_dummy.isnull().sum())"
   ]
  },
  {
   "cell_type": "code",
   "execution_count": 12,
   "metadata": {},
   "outputs": [
    {
     "data": {
      "image/png": "[encoded data removed]",
      "text/plain": [
       "<Figure size 1080x720 with 4 Axes>"
      ]
     },
     "metadata": {
      "needs_background": "light"
     },
     "output_type": "display_data"
    }
   ],
   "source": [
    "fig = plt.figure(figsize=(15,10))\n",
    "plt.subplot(2,2,1)\n",
    "plt.hist(data['Age'])\n",
    "plt.title('Histogram: Age')\n",
    "\n",
    "plt.subplot(2,2,2)\n",
    "plt.hist(data['BusinessTravel'])\n",
    "plt.title('Histogram: BusinessTravel')\n",
    "\n",
    "plt.subplot(2,2,3)\n",
    "plt.hist(data['DistanceFromHome'])\n",
    "plt.title('Histogram: DistanceFromHome')\n",
    "\n",
    "plt.subplot(2,2,4)\n",
    "plt.hist(data['HourlyRate'])\n",
    "plt.title('Histogram: HourlyRate')\n",
    "\n",
    "plt.show()"
   ]
  },
  {
   "cell_type": "code",
   "execution_count": 13,
   "metadata": {},
   "outputs": [
    {
     "data": {
      "image/png": "[encoded data removed]",
      "text/plain": [
       "<Figure size 1440x720 with 4 Axes>"
      ]
     },
     "metadata": {
      "needs_background": "light"
     },
     "output_type": "display_data"
    }
   ],
   "source": [
    "fig = plt.figure(figsize=(20,10))\n",
    "plt.subplot(2,2,1)\n",
    "plt.hist(data['Education'])\n",
    "plt.title('Histogram: Education')\n",
    "\n",
    "plt.subplot(2,2,2)\n",
    "plt.hist(data['Department'])\n",
    "plt.title('Histogram: Department')\n",
    "\n",
    "plt.subplot(2,2,3)\n",
    "plt.hist(data['EducationField'])\n",
    "plt.title('Histogram: EducationField')\n",
    "\n",
    "plt.subplot(2,2,4)\n",
    "plt.hist(data['MaritalStatus'])\n",
    "plt.title('Histogram: MaritalStatus')\n",
    "\n",
    "plt.show()"
   ]
  },
  {
   "cell_type": "code",
   "execution_count": 14,
   "metadata": {},
   "outputs": [
    {
     "data": {
      "image/png": "[encoded data removed]",
      "text/plain": [
       "<Figure size 1800x720 with 4 Axes>"
      ]
     },
     "metadata": {
      "needs_background": "light"
     },
     "output_type": "display_data"
    }
   ],
   "source": [
    "fig = plt.figure(figsize=(25,10))\n",
    "plt.subplot(2,2,1)\n",
    "plt.hist(data['JobInvolvement'])\n",
    "plt.title('Histogram: JobInvolvement')\n",
    "\n",
    "plt.subplot(2,2,2)\n",
    "plt.hist(data['JobLevel'])\n",
    "plt.title('Histogram: JobLevel')\n",
    "\n",
    "plt.subplot(2,2,3)\n",
    "plt.hist(data['JobRole'])\n",
    "plt.title('Histogram: JobRole')\n",
    "\n",
    "plt.subplot(2,2,4)\n",
    "plt.hist(data['JobSatisfaction'])\n",
    "plt.title('Histogram: JobSatisfaction')\n",
    "\n",
    "plt.show()"
   ]
  },
  {
   "cell_type": "code",
   "execution_count": 15,
   "metadata": {},
   "outputs": [
    {
     "data": {
      "image/png": "[encoded data removed]",
      "text/plain": [
       "<Figure size 1080x720 with 4 Axes>"
      ]
     },
     "metadata": {
      "needs_background": "light"
     },
     "output_type": "display_data"
    }
   ],
   "source": [
    "fig = plt.figure(figsize=(15,10))\n",
    "plt.subplot(2,2,1)\n",
    "plt.hist(data['OverTime'])\n",
    "plt.title('Histogram: OverTime')\n",
    "\n",
    "plt.subplot(2,2,2)\n",
    "plt.hist(data['PercentSalaryHike'])\n",
    "plt.title('Histogram: PercentSalaryHike')\n",
    "\n",
    "plt.subplot(2,2,3)\n",
    "plt.hist(data['PerformanceRating'])\n",
    "plt.title('Histogram: PerformanceRating')\n",
    "\n",
    "plt.subplot(2,2,4)\n",
    "plt.hist(data['StockOptionLevel'])\n",
    "plt.title('Histogram: StockOptionLevel')\n",
    "\n",
    "plt.show()"
   ]
  },
  {
   "cell_type": "code",
   "execution_count": 16,
   "metadata": {},
   "outputs": [
    {
     "data": {
      "image/png": "[encoded data removed]",
      "text/plain": [
       "<Figure size 1080x720 with 6 Axes>"
      ]
     },
     "metadata": {
      "needs_background": "light"
     },
     "output_type": "display_data"
    }
   ],
   "source": [
    "fig = plt.figure(figsize=(15,10))\n",
    "plt.subplot(3,2,1)\n",
    "plt.hist(data['TotalWorkingYears'])\n",
    "plt.title('Histogram: TotalWorkingYears')\n",
    "\n",
    "plt.subplot(3,2,2)\n",
    "plt.hist(data['TrainingTimesLastYear'])\n",
    "plt.title('Histogram: TrainingTimesLastYear')\n",
    "\n",
    "plt.subplot(3,2,3)\n",
    "plt.hist(data['YearsAtCompany'])\n",
    "plt.title('Histogram: YearsAtCompany')\n",
    "\n",
    "plt.subplot(3,2,4)\n",
    "plt.hist(data['YearsInCurrentRole'])\n",
    "plt.title('Histogram: YearsInCurrentRole')\n",
    "\n",
    "plt.subplot(3,2,5)\n",
    "plt.hist(data['YearsSinceLastPromotion'])\n",
    "plt.title('Histogram: YearsSinceLastPromotion')\n",
    "\n",
    "plt.subplot(3,2,6)\n",
    "plt.hist(data['YearsWithCurrManager'])\n",
    "plt.title('Histogram: YearsWithCurrManager')\n",
    "\n",
    "plt.show()"
   ]
  },
  {
   "cell_type": "code",
   "execution_count": 17,
   "metadata": {},
   "outputs": [
    {
     "data": {
      "image/png": "[encoded data removed]",
      "text/plain": [
       "<Figure size 1080x720 with 4 Axes>"
      ]
     },
     "metadata": {
      "needs_background": "light"
     },
     "output_type": "display_data"
    }
   ],
   "source": [
    "fig = plt.figure(figsize=(15,10))\n",
    "plt.subplot(2,2,1)\n",
    "plt.hist(data['EnvironmentSatisfaction'])\n",
    "plt.title('Histogram: EnvironmentSatisfaction')\n",
    "\n",
    "plt.subplot(2,2,2)\n",
    "plt.hist(data['Gender'])\n",
    "plt.title('Histogram: Gender')\n",
    "\n",
    "plt.subplot(2,2,3)\n",
    "plt.hist(data['WorkLifeBalance'])\n",
    "plt.title('Histogram: WorkLifeBalance')\n",
    "\n",
    "plt.subplot(2,2,4)\n",
    "plt.hist(data['NumCompaniesWorked'])\n",
    "plt.title('Histogram: NumCompaniesWorked')\n",
    "\n",
    "plt.show()"
   ]
  },
  {
   "cell_type": "markdown",
   "metadata": {},
   "source": [
    "# 1) Logistická regrese"
   ]
  },
  {
   "cell_type": "markdown",
   "metadata": {},
   "source": [
    "### Výpočty\n",
    "* Binary logistic regression\n",
    "* Multinomic logistic regression"
   ]
  },
  {
   "cell_type": "code",
   "execution_count": 18,
   "metadata": {},
   "outputs": [
    {
     "name": "stdout",
     "output_type": "stream",
     "text": [
      "Fitting 10 folds for each of 4 candidates, totalling 40 fits\n",
      "{'penalty': 'l2'}\n"
     ]
    },
    {
     "name": "stderr",
     "output_type": "stream",
     "text": [
      "D:\\anaconda3\\lib\\site-packages\\sklearn\\model_selection\\_search.py:918: UserWarning: One or more of the test scores are non-finite: [       nan 0.89408909        nan 0.89021512]\n",
      "  warnings.warn(\n",
      "D:\\anaconda3\\lib\\site-packages\\sklearn\\utils\\validation.py:63: DataConversionWarning: A column-vector y was passed when a 1d array was expected. Please change the shape of y to (n_samples, ), for example using ravel().\n",
      "  return f(*args, **kwargs)\n",
      "D:\\anaconda3\\lib\\site-packages\\sklearn\\linear_model\\_logistic.py:763: ConvergenceWarning: lbfgs failed to converge (status=1):\n",
      "STOP: TOTAL NO. of ITERATIONS REACHED LIMIT.\n",
      "\n",
      "Increase the number of iterations (max_iter) or scale the data as shown in:\n",
      "    https://scikit-learn.org/stable/modules/preprocessing.html\n",
      "Please also refer to the documentation for alternative solver options:\n",
      "    https://scikit-learn.org/stable/modules/linear_model.html#logistic-regression\n",
      "  n_iter_i = _check_optimize_result(\n"
     ]
    }
   ],
   "source": [
    "logistic_model = LogisticRegression(\n",
    "  fit_intercept = True,\n",
    "  random_state = SEED)\n",
    "\n",
    "hyper_grid_log = {'penalty': ('l1', 'l2', 'elasticnet', 'none')\n",
    "               }\n",
    "\n",
    "\n",
    "grid_search_log = GridSearchCV(estimator = logistic_model, \n",
    "                            param_grid = hyper_grid_log, \n",
    "                            cv = 10, #specify the number of folds\n",
    "                            n_jobs = -1, #n_jobs...Number of jobs to run in parallel. -1 means using all processors. \n",
    "                            verbose = 2 #controls verbosity of the model\n",
    "                        ) \n",
    "\n",
    "\n",
    "grid_search_log.fit(X_train, y_train)\n",
    "#best parameters\n",
    "print(grid_search_log.best_params_)\n",
    "#best estimator\n",
    "log_mod_opt= grid_search_log.best_estimator_\n",
    "# Predict the test set labels\n",
    "y_pred_log = log_mod_opt.predict(X_test)"
   ]
  },
  {
   "cell_type": "markdown",
   "metadata": {},
   "source": [
    "* drobné obtíže s iteracemi směle ignorujeme"
   ]
  },
  {
   "cell_type": "markdown",
   "metadata": {},
   "source": [
    "### Graf"
   ]
  },
  {
   "cell_type": "code",
   "execution_count": 19,
   "metadata": {},
   "outputs": [
    {
     "data": {
      "text/plain": [
       "<Figure size 1080x1080 with 0 Axes>"
      ]
     },
     "metadata": {},
     "output_type": "display_data"
    },
    {
     "data": {
      "image/png": "[encoded data removed]",
      "text/plain": [
       "<Figure size 432x288 with 2 Axes>"
      ]
     },
     "metadata": {
      "needs_background": "light"
     },
     "output_type": "display_data"
    }
   ],
   "source": [
    "fig = plt.figure(figsize=(15,15))\n",
    "plot_confusion_matrix(grid_search_log, X_test, y_test)  \n",
    "plt.show()"
   ]
  },
  {
   "cell_type": "markdown",
   "metadata": {},
   "source": [
    "### Metriky"
   ]
  },
  {
   "cell_type": "code",
   "execution_count": 20,
   "metadata": {},
   "outputs": [
    {
     "name": "stdout",
     "output_type": "stream",
     "text": [
      "Accuracy: 0.8752834467120182\n",
      "Precision: 0.7073170731707317\n",
      "Recall: 0.4027777777777778\n",
      "False Negative Rate: 0.09750566893424037\n"
     ]
    }
   ],
   "source": [
    "cnf_log=confusion_matrix(y_test,y_pred_log)\n",
    "\n",
    "print(\"Accuracy:\",metrics.accuracy_score(y_test, y_pred_log)) # ((TP+TN)/total) \n",
    "print(\"Precision:\",metrics.precision_score(y_test, y_pred_log)) # (TP/(TP + FP)) \n",
    "print(\"Recall:\",metrics.recall_score(y_test, y_pred_log)) # (TP/(TP + FN)) \n",
    "print(\"False Negative Rate:\",cnf_log[1,0]/cnf_log.sum()) # (TP/(TP + FN)) "
   ]
  },
  {
   "cell_type": "markdown",
   "metadata": {},
   "source": [
    "### AUC a ROC křivky\n",
    "* predikujeme True Positive Rate (TPR) a False Positive Rate (FPR) pro různá odvětví\n",
    "* agregujeme AUC křivku\n",
    "* AUC = Area Under the Curve"
   ]
  },
  {
   "cell_type": "code",
   "execution_count": 21,
   "metadata": {},
   "outputs": [],
   "source": [
    "y_proba_log = grid_search_log.predict_proba(X_test)[::,1]\n",
    "fpr_log, tpr_log, threshold_log = metrics.roc_curve(y_test, y_proba_log)\n",
    "\n",
    "auc = metrics.roc_auc_score(y_test, y_proba_log)"
   ]
  },
  {
   "cell_type": "markdown",
   "metadata": {},
   "source": [
    "### AUC a ROC křivky graf"
   ]
  },
  {
   "cell_type": "code",
   "execution_count": 22,
   "metadata": {},
   "outputs": [
    {
     "data": {
      "image/png": "[encoded data removed]",
      "text/plain": [
       "<Figure size 432x288 with 1 Axes>"
      ]
     },
     "metadata": {
      "needs_background": "light"
     },
     "output_type": "display_data"
    }
   ],
   "source": [
    "# ROC curve - Performance of a classification model at all classification thresholds.\n",
    "# X axes - TPR (TP/(TP + FN)), Y axes - FPR (FP/(FP + TN))\n",
    "plt.plot(fpr_log,tpr_log,label=\"data 1, auc=\"+str(auc))\n",
    "plt.show()"
   ]
  },
  {
   "cell_type": "markdown",
   "metadata": {},
   "source": [
    "### Interpretace regresorů"
   ]
  },
  {
   "cell_type": "code",
   "execution_count": 23,
   "metadata": {},
   "outputs": [
    {
     "data": {
      "text/html": [
       "<div>\n",
       "<style scoped>\n",
       "    .dataframe tbody tr th:only-of-type {\n",
       "        vertical-align: middle;\n",
       "    }\n",
       "\n",
       "    .dataframe tbody tr th {\n",
       "        vertical-align: top;\n",
       "    }\n",
       "\n",
       "    .dataframe thead th {\n",
       "        text-align: right;\n",
       "    }\n",
       "</style>\n",
       "<table border=\"1\" class=\"dataframe\">\n",
       "  <thead>\n",
       "    <tr style=\"text-align: right;\">\n",
       "      <th></th>\n",
       "      <th>Coef</th>\n",
       "      <th>Exp Coef</th>\n",
       "    </tr>\n",
       "  </thead>\n",
       "  <tbody>\n",
       "    <tr>\n",
       "      <th>Age</th>\n",
       "      <td>-0.026780</td>\n",
       "      <td>0.973576</td>\n",
       "    </tr>\n",
       "    <tr>\n",
       "      <th>BusinessTravel</th>\n",
       "      <td>1.234573</td>\n",
       "      <td>3.436910</td>\n",
       "    </tr>\n",
       "    <tr>\n",
       "      <th>DistanceFromHome</th>\n",
       "      <td>0.051147</td>\n",
       "      <td>1.052477</td>\n",
       "    </tr>\n",
       "    <tr>\n",
       "      <th>Education</th>\n",
       "      <td>-0.094472</td>\n",
       "      <td>0.909853</td>\n",
       "    </tr>\n",
       "    <tr>\n",
       "      <th>EnvironmentSatisfaction</th>\n",
       "      <td>-0.395540</td>\n",
       "      <td>0.673317</td>\n",
       "    </tr>\n",
       "    <tr>\n",
       "      <th>HourlyRate</th>\n",
       "      <td>0.003583</td>\n",
       "      <td>1.003590</td>\n",
       "    </tr>\n",
       "    <tr>\n",
       "      <th>JobInvolvement</th>\n",
       "      <td>-0.405620</td>\n",
       "      <td>0.666564</td>\n",
       "    </tr>\n",
       "    <tr>\n",
       "      <th>JobLevel</th>\n",
       "      <td>-0.430829</td>\n",
       "      <td>0.649970</td>\n",
       "    </tr>\n",
       "    <tr>\n",
       "      <th>JobSatisfaction</th>\n",
       "      <td>-0.423995</td>\n",
       "      <td>0.654427</td>\n",
       "    </tr>\n",
       "    <tr>\n",
       "      <th>NumCompaniesWorked</th>\n",
       "      <td>0.202796</td>\n",
       "      <td>1.224822</td>\n",
       "    </tr>\n",
       "    <tr>\n",
       "      <th>OverTime</th>\n",
       "      <td>1.965242</td>\n",
       "      <td>7.136642</td>\n",
       "    </tr>\n",
       "    <tr>\n",
       "      <th>PercentSalaryHike</th>\n",
       "      <td>-0.044299</td>\n",
       "      <td>0.956668</td>\n",
       "    </tr>\n",
       "    <tr>\n",
       "      <th>PerformanceRating</th>\n",
       "      <td>0.552269</td>\n",
       "      <td>1.737190</td>\n",
       "    </tr>\n",
       "    <tr>\n",
       "      <th>RelationshipSatisfaction</th>\n",
       "      <td>-0.299444</td>\n",
       "      <td>0.741231</td>\n",
       "    </tr>\n",
       "    <tr>\n",
       "      <th>StockOptionLevel</th>\n",
       "      <td>-0.269866</td>\n",
       "      <td>0.763482</td>\n",
       "    </tr>\n",
       "    <tr>\n",
       "      <th>TotalWorkingYears</th>\n",
       "      <td>-0.031405</td>\n",
       "      <td>0.969083</td>\n",
       "    </tr>\n",
       "    <tr>\n",
       "      <th>TrainingTimesLastYear</th>\n",
       "      <td>-0.153511</td>\n",
       "      <td>0.857691</td>\n",
       "    </tr>\n",
       "    <tr>\n",
       "      <th>WorkLifeBalance</th>\n",
       "      <td>-0.378210</td>\n",
       "      <td>0.685086</td>\n",
       "    </tr>\n",
       "    <tr>\n",
       "      <th>YearsAtCompany</th>\n",
       "      <td>0.042212</td>\n",
       "      <td>1.043116</td>\n",
       "    </tr>\n",
       "    <tr>\n",
       "      <th>YearsInCurrentRole</th>\n",
       "      <td>-0.119908</td>\n",
       "      <td>0.887002</td>\n",
       "    </tr>\n",
       "    <tr>\n",
       "      <th>YearsSinceLastPromotion</th>\n",
       "      <td>0.200748</td>\n",
       "      <td>1.222317</td>\n",
       "    </tr>\n",
       "    <tr>\n",
       "      <th>YearsWithCurrManager</th>\n",
       "      <td>-0.112632</td>\n",
       "      <td>0.893479</td>\n",
       "    </tr>\n",
       "    <tr>\n",
       "      <th>Male</th>\n",
       "      <td>0.484057</td>\n",
       "      <td>1.622644</td>\n",
       "    </tr>\n",
       "    <tr>\n",
       "      <th>Sales</th>\n",
       "      <td>0.425106</td>\n",
       "      <td>1.529753</td>\n",
       "    </tr>\n",
       "    <tr>\n",
       "      <th>R&amp;D</th>\n",
       "      <td>-0.202503</td>\n",
       "      <td>0.816684</td>\n",
       "    </tr>\n",
       "    <tr>\n",
       "      <th>HR</th>\n",
       "      <td>-0.016644</td>\n",
       "      <td>0.983494</td>\n",
       "    </tr>\n",
       "    <tr>\n",
       "      <th>EDU_LS</th>\n",
       "      <td>-0.264078</td>\n",
       "      <td>0.767913</td>\n",
       "    </tr>\n",
       "    <tr>\n",
       "      <th>EDU_Oth</th>\n",
       "      <td>0.019781</td>\n",
       "      <td>1.019978</td>\n",
       "    </tr>\n",
       "    <tr>\n",
       "      <th>EDU_Med</th>\n",
       "      <td>-0.391718</td>\n",
       "      <td>0.675895</td>\n",
       "    </tr>\n",
       "    <tr>\n",
       "      <th>EDU_Mark</th>\n",
       "      <td>0.391650</td>\n",
       "      <td>1.479420</td>\n",
       "    </tr>\n",
       "    <tr>\n",
       "      <th>EDU_Tech</th>\n",
       "      <td>0.366083</td>\n",
       "      <td>1.442074</td>\n",
       "    </tr>\n",
       "    <tr>\n",
       "      <th>EDU_HR</th>\n",
       "      <td>0.084241</td>\n",
       "      <td>1.087891</td>\n",
       "    </tr>\n",
       "    <tr>\n",
       "      <th>JOB_SE</th>\n",
       "      <td>0.016691</td>\n",
       "      <td>1.016831</td>\n",
       "    </tr>\n",
       "    <tr>\n",
       "      <th>JOB_RS</th>\n",
       "      <td>-0.230619</td>\n",
       "      <td>0.794042</td>\n",
       "    </tr>\n",
       "    <tr>\n",
       "      <th>JOB_LT</th>\n",
       "      <td>0.576462</td>\n",
       "      <td>1.779730</td>\n",
       "    </tr>\n",
       "    <tr>\n",
       "      <th>JOB_MD</th>\n",
       "      <td>-0.184513</td>\n",
       "      <td>0.831509</td>\n",
       "    </tr>\n",
       "    <tr>\n",
       "      <th>JOB_HCR</th>\n",
       "      <td>-0.213264</td>\n",
       "      <td>0.807943</td>\n",
       "    </tr>\n",
       "    <tr>\n",
       "      <th>JOB_MA</th>\n",
       "      <td>-0.037825</td>\n",
       "      <td>0.962882</td>\n",
       "    </tr>\n",
       "    <tr>\n",
       "      <th>JOB_SR</th>\n",
       "      <td>0.443236</td>\n",
       "      <td>1.557739</td>\n",
       "    </tr>\n",
       "    <tr>\n",
       "      <th>JOB_RD</th>\n",
       "      <td>-0.178495</td>\n",
       "      <td>0.836529</td>\n",
       "    </tr>\n",
       "    <tr>\n",
       "      <th>JOB_HR</th>\n",
       "      <td>0.014286</td>\n",
       "      <td>1.014389</td>\n",
       "    </tr>\n",
       "    <tr>\n",
       "      <th>Single</th>\n",
       "      <td>0.606937</td>\n",
       "      <td>1.834803</td>\n",
       "    </tr>\n",
       "    <tr>\n",
       "      <th>Married</th>\n",
       "      <td>-0.076032</td>\n",
       "      <td>0.926787</td>\n",
       "    </tr>\n",
       "    <tr>\n",
       "      <th>Divorced</th>\n",
       "      <td>-0.324946</td>\n",
       "      <td>0.722566</td>\n",
       "    </tr>\n",
       "  </tbody>\n",
       "</table>\n",
       "</div>"
      ],
      "text/plain": [
       "                              Coef  Exp Coef\n",
       "Age                      -0.026780  0.973576\n",
       "BusinessTravel            1.234573  3.436910\n",
       "DistanceFromHome          0.051147  1.052477\n",
       "Education                -0.094472  0.909853\n",
       "EnvironmentSatisfaction  -0.395540  0.673317\n",
       "HourlyRate                0.003583  1.003590\n",
       "JobInvolvement           -0.405620  0.666564\n",
       "JobLevel                 -0.430829  0.649970\n",
       "JobSatisfaction          -0.423995  0.654427\n",
       "NumCompaniesWorked        0.202796  1.224822\n",
       "OverTime                  1.965242  7.136642\n",
       "PercentSalaryHike        -0.044299  0.956668\n",
       "PerformanceRating         0.552269  1.737190\n",
       "RelationshipSatisfaction -0.299444  0.741231\n",
       "StockOptionLevel         -0.269866  0.763482\n",
       "TotalWorkingYears        -0.031405  0.969083\n",
       "TrainingTimesLastYear    -0.153511  0.857691\n",
       "WorkLifeBalance          -0.378210  0.685086\n",
       "YearsAtCompany            0.042212  1.043116\n",
       "YearsInCurrentRole       -0.119908  0.887002\n",
       "YearsSinceLastPromotion   0.200748  1.222317\n",
       "YearsWithCurrManager     -0.112632  0.893479\n",
       "Male                      0.484057  1.622644\n",
       "Sales                     0.425106  1.529753\n",
       "R&D                      -0.202503  0.816684\n",
       "HR                       -0.016644  0.983494\n",
       "EDU_LS                   -0.264078  0.767913\n",
       "EDU_Oth                   0.019781  1.019978\n",
       "EDU_Med                  -0.391718  0.675895\n",
       "EDU_Mark                  0.391650  1.479420\n",
       "EDU_Tech                  0.366083  1.442074\n",
       "EDU_HR                    0.084241  1.087891\n",
       "JOB_SE                    0.016691  1.016831\n",
       "JOB_RS                   -0.230619  0.794042\n",
       "JOB_LT                    0.576462  1.779730\n",
       "JOB_MD                   -0.184513  0.831509\n",
       "JOB_HCR                  -0.213264  0.807943\n",
       "JOB_MA                   -0.037825  0.962882\n",
       "JOB_SR                    0.443236  1.557739\n",
       "JOB_RD                   -0.178495  0.836529\n",
       "JOB_HR                    0.014286  1.014389\n",
       "Single                    0.606937  1.834803\n",
       "Married                  -0.076032  0.926787\n",
       "Divorced                 -0.324946  0.722566"
      ]
     },
     "execution_count": 23,
     "metadata": {},
     "output_type": "execute_result"
    }
   ],
   "source": [
    "\n",
    "c=grid_search_log.best_estimator_.coef_\n",
    "ones=np.ones(44)\n",
    "ones.fill(2.71828182846)\n",
    "exp=np.power(ones,c)\n",
    "expc = np.insert(c, 1, exp, axis=0)\n",
    "coef=np.transpose(expc)\n",
    "coef_pd=pd.DataFrame(coef, columns = ['Coef','Exp Coef'], index = x_lab)\n",
    "coef_pd"
   ]
  },
  {
   "cell_type": "markdown",
   "metadata": {},
   "source": [
    "# 2) Decision tree"
   ]
  },
  {
   "cell_type": "markdown",
   "metadata": {},
   "source": [
    "### Příprava pro rozhodovací strom\n",
    "* nabídneme možnosti, ze kterých bude vybírat nejlepší"
   ]
  },
  {
   "cell_type": "code",
   "execution_count": 24,
   "metadata": {},
   "outputs": [],
   "source": [
    "tree_model = DecisionTreeClassifier()\n",
    "\n",
    "#optimize hyper parameters\n",
    "# Create the grid\n",
    "hyper_grid_tree = {\"max_depth\": [1, 2, 5, 10, 20, 30],\n",
    "               \"min_samples_leaf\": [0.01, 0.05, 0.1, 0.2, 0.3, 0.5],\n",
    "               }"
   ]
  },
  {
   "cell_type": "markdown",
   "metadata": {},
   "source": [
    "### Grid search model"
   ]
  },
  {
   "cell_type": "code",
   "execution_count": 25,
   "metadata": {},
   "outputs": [
    {
     "name": "stdout",
     "output_type": "stream",
     "text": [
      "Fitting 3 folds for each of 36 candidates, totalling 108 fits\n",
      "{'max_depth': 5, 'min_samples_leaf': 0.05}\n"
     ]
    }
   ],
   "source": [
    "grid_search_tree = GridSearchCV(estimator = tree_model, \n",
    "                          param_grid = hyper_grid_tree, \n",
    "                          cv = 3, \n",
    "                          n_jobs = -1, \n",
    "                          verbose = 2\n",
    "                          )\n",
    "\n",
    "grid_search_tree.fit(X_train, y_train)\n",
    "tree_best=grid_search_tree.best_params_\n",
    "print(grid_search_tree.best_params_)   \n",
    "tree_mod_opt= grid_search_tree.best_estimator_  \n",
    "y_pred_tree = tree_mod_opt.predict(X_test)"
   ]
  },
  {
   "cell_type": "markdown",
   "metadata": {},
   "source": [
    "* Nejlepší kombinace v {} složených (\"chlupatých\") závorkách."
   ]
  },
  {
   "cell_type": "markdown",
   "metadata": {},
   "source": [
    "### graf"
   ]
  },
  {
   "cell_type": "code",
   "execution_count": 26,
   "metadata": {},
   "outputs": [
    {
     "data": {
      "text/plain": [
       "<Figure size 1080x1080 with 0 Axes>"
      ]
     },
     "metadata": {},
     "output_type": "display_data"
    },
    {
     "data": {
      "image/png": "[encoded data removed]",
      "text/plain": [
       "<Figure size 432x288 with 2 Axes>"
      ]
     },
     "metadata": {
      "needs_background": "light"
     },
     "output_type": "display_data"
    }
   ],
   "source": [
    "fig = plt.figure(figsize=(15,15))\n",
    "plot_confusion_matrix(grid_search_tree, X_test, y_test)  \n",
    "plt.show()"
   ]
  },
  {
   "cell_type": "markdown",
   "metadata": {},
   "source": [
    "### Spočítej metriky"
   ]
  },
  {
   "cell_type": "code",
   "execution_count": 27,
   "metadata": {},
   "outputs": [
    {
     "name": "stdout",
     "output_type": "stream",
     "text": [
      "Accuracy: 0.8480725623582767\n",
      "Precision: 0.5806451612903226\n",
      "Recall: 0.25\n",
      "False Negative Rate: 0.12244897959183673\n"
     ]
    }
   ],
   "source": [
    "cnf_tree=confusion_matrix(y_test,y_pred_tree)\n",
    "\n",
    "print(\"Accuracy:\",metrics.accuracy_score(y_test, y_pred_tree)) # ((TP+TN)/total) \n",
    "print(\"Precision:\",metrics.precision_score(y_test, y_pred_tree)) # (TP/(TP + FP)) \n",
    "print(\"Recall:\",metrics.recall_score(y_test, y_pred_tree)) # (TP/(TP + FN)) \n",
    "print(\"False Negative Rate:\",cnf_tree[1,0]/cnf_tree.sum()) # (TP/(TP + FN)) "
   ]
  },
  {
   "cell_type": "markdown",
   "metadata": {},
   "source": [
    "### AUC a ROC křivky\n",
    "* predikujeme True Positive Rate (TPR) a False Positive Rate (FPR) pro různá odvětví\n",
    "* agregujeme AUC křivku\n",
    "* AUC = Area Under the Curve"
   ]
  },
  {
   "cell_type": "code",
   "execution_count": 28,
   "metadata": {},
   "outputs": [],
   "source": [
    "y_proba_tree = grid_search_tree.predict_proba(X_test)[::,1]\n",
    "fpr_tree, tpr_tree, threshold_tree = metrics.roc_curve(y_test, y_proba_tree)\n",
    "\n",
    "auc = metrics.roc_auc_score(y_test, y_proba_tree)"
   ]
  },
  {
   "cell_type": "markdown",
   "metadata": {},
   "source": [
    "### AUC a ROC křivka - graf"
   ]
  },
  {
   "cell_type": "code",
   "execution_count": 29,
   "metadata": {},
   "outputs": [
    {
     "data": {
      "image/png": "[encoded data removed]",
      "text/plain": [
       "<Figure size 432x288 with 1 Axes>"
      ]
     },
     "metadata": {
      "needs_background": "light"
     },
     "output_type": "display_data"
    }
   ],
   "source": [
    "# ROC curve - Performance of a classification model at all classification thresholds.\n",
    "# X axes - TPR (TP/(TP + FN)), Y axes - FPR (FP/(FP + TN))\n",
    "plt.plot(fpr_tree,tpr_tree,label=\"data 1, auc=\"+str(auc))\n",
    "plt.show()"
   ]
  },
  {
   "cell_type": "markdown",
   "metadata": {},
   "source": [
    "### Vyobrazení stromu"
   ]
  },
  {
   "cell_type": "code",
   "execution_count": 30,
   "metadata": {
    "scrolled": false
   },
   "outputs": [
    {
     "data": {
      "image/png": "[encoded data removed]",
      "text/plain": [
       "<Figure size 1440x720 with 1 Axes>"
      ]
     },
     "metadata": {
      "needs_background": "light"
     },
     "output_type": "display_data"
    }
   ],
   "source": [
    "fig = plt.figure(figsize=(20,10))\n",
    "_ = tree.plot_tree(tree_mod_opt, \n",
    "                  feature_names=x_lab, \n",
    "                  class_names=('False','True'),\n",
    "                  filled=True)\n",
    "\n",
    "plt.show()"
   ]
  },
  {
   "cell_type": "markdown",
   "metadata": {},
   "source": [
    "# 3) XGBOOST"
   ]
  },
  {
   "cell_type": "markdown",
   "metadata": {},
   "source": [
    "Kdyby nechtělo fungovat, je třeba naistalovat mimo jupyter notebook:"
   ]
  },
  {
   "cell_type": "code",
   "execution_count": 31,
   "metadata": {},
   "outputs": [],
   "source": [
    "# conda install -c conda-forge xgboost\n",
    "# conda install -c conda-forge/label/gcc7 xgboost\n",
    "# conda install -c conda-forge/label/cf201901 xgboost\n",
    "# conda install -c conda-forge/label/cf202003 xgboost"
   ]
  },
  {
   "cell_type": "markdown",
   "metadata": {},
   "source": [
    "### Příprava"
   ]
  },
  {
   "cell_type": "code",
   "execution_count": 32,
   "metadata": {},
   "outputs": [],
   "source": [
    "param_grid = {'learning_rate': [0.1,0.5,0.7], #alias eta, Step size shrinkage used in update to prevents overfitting.  \n",
    "    'n_estimators': [50,100,150], \n",
    "    'subsample': [0.5,0.7,0.9], #Subsample ratio of the training instances\n",
    "    'max_depth': [1,5],\n",
    "    'colsample_bytree': [0.1,0.5,0.7] #colsample_bytree is the subsample ratio of columns when constructing each tree. Subsampling occurs once for every tree constructed.\n",
    "    }\n",
    "\n",
    "#instantiate XGBRegressor \n",
    "gbm = xgb.XGBRegressor(seed=SEED, objective='binary:hinge')\n",
    "grid_mse = GridSearchCV(estimator=gbm,\n",
    "                        param_grid=param_grid,\n",
    "                        scoring='accuracy',\n",
    "                        cv=5, \n",
    "                        verbose=1, \n",
    "                        n_jobs=-1)"
   ]
  },
  {
   "cell_type": "markdown",
   "metadata": {},
   "source": [
    "### Parametr scoringu - věrohodnost modelu / křížové entropie\n",
    "* fitujeme GridSearchCV"
   ]
  },
  {
   "cell_type": "code",
   "execution_count": 33,
   "metadata": {},
   "outputs": [
    {
     "name": "stdout",
     "output_type": "stream",
     "text": [
      "Fitting 5 folds for each of 162 candidates, totalling 810 fits\n",
      "20.7595946\n",
      "XGBRegressor(base_score=0.5, booster='gbtree', colsample_bylevel=1,\n",
      "             colsample_bynode=1, colsample_bytree=0.5, enable_categorical=False,\n",
      "             gamma=0, gpu_id=-1, importance_type=None,\n",
      "             interaction_constraints='', learning_rate=0.7, max_delta_step=0,\n",
      "             max_depth=1, min_child_weight=1, missing=nan,\n",
      "             monotone_constraints='()', n_estimators=150, n_jobs=12,\n",
      "             num_parallel_tree=1, objective='binary:hinge', predictor='auto',\n",
      "             random_state=1512, reg_alpha=0, reg_lambda=1,\n",
      "             scale_pos_weight=None, seed=1512, subsample=0.9,\n",
      "             tree_method='exact', validate_parameters=1, verbosity=None)\n"
     ]
    }
   ],
   "source": [
    "tic = time.perf_counter() #begin timing\n",
    "grid_mse.fit(X_train, y_train)\n",
    "time_fit_cv = time.perf_counter() - tic #save timer\n",
    "print(time_fit_cv)\n",
    "\n",
    "gbm_ins = grid_mse.best_estimator_ #best_estimator_\n",
    "print(gbm_ins)"
   ]
  },
  {
   "cell_type": "code",
   "execution_count": 34,
   "metadata": {},
   "outputs": [
    {
     "data": {
      "image/png": "[encoded data removed]",
      "text/plain": [
       "<Figure size 720x720 with 1 Axes>"
      ]
     },
     "metadata": {
      "needs_background": "light"
     },
     "output_type": "display_data"
    }
   ],
   "source": [
    "final_grid_fit=gbm_ins.fit(X_train, y_train)\n",
    "feature_important = final_grid_fit.get_booster().get_score(importance_type='weight')\n",
    "keys = list(feature_important.keys())\n",
    "values = list(feature_important.values())\n",
    "importance = pd.DataFrame(data=values, index=keys, columns=[\"score\"]).sort_values(by = \"score\", ascending=False)\n",
    "importance.plot(kind='barh',figsize=(10,10))\n",
    "plt.show()"
   ]
  },
  {
   "cell_type": "markdown",
   "metadata": {},
   "source": [
    "### Predikce"
   ]
  },
  {
   "cell_type": "code",
   "execution_count": 35,
   "metadata": {},
   "outputs": [
    {
     "data": {
      "text/html": [
       "<div>\n",
       "<style scoped>\n",
       "    .dataframe tbody tr th:only-of-type {\n",
       "        vertical-align: middle;\n",
       "    }\n",
       "\n",
       "    .dataframe tbody tr th {\n",
       "        vertical-align: top;\n",
       "    }\n",
       "\n",
       "    .dataframe thead th {\n",
       "        text-align: right;\n",
       "    }\n",
       "</style>\n",
       "<table border=\"1\" class=\"dataframe\">\n",
       "  <thead>\n",
       "    <tr style=\"text-align: right;\">\n",
       "      <th></th>\n",
       "      <th>False</th>\n",
       "      <th>True</th>\n",
       "    </tr>\n",
       "  </thead>\n",
       "  <tbody>\n",
       "    <tr>\n",
       "      <th>False</th>\n",
       "      <td>351</td>\n",
       "      <td>18</td>\n",
       "    </tr>\n",
       "    <tr>\n",
       "      <th>True</th>\n",
       "      <td>36</td>\n",
       "      <td>36</td>\n",
       "    </tr>\n",
       "  </tbody>\n",
       "</table>\n",
       "</div>"
      ],
      "text/plain": [
       "       False  True\n",
       "False    351    18\n",
       "True      36    36"
      ]
     },
     "execution_count": 35,
     "metadata": {},
     "output_type": "execute_result"
    }
   ],
   "source": [
    "y_pred_XG = gbm_ins.predict(X_test)\n",
    "\n",
    "\n",
    "conf_xg = metrics.confusion_matrix(y_test, y_pred_XG)\n",
    "conf_xg\n",
    "\n",
    "cnf_xgb=confusion_matrix(y_test,y_pred_XG)\n",
    "cnf_xgb_pd=pd.DataFrame(cnf_xgb, columns = ['False','True'], index = ['False','True'])\n",
    "cnf_xgb_pd\n"
   ]
  },
  {
   "cell_type": "markdown",
   "metadata": {},
   "source": [
    "### Metriky"
   ]
  },
  {
   "cell_type": "code",
   "execution_count": 36,
   "metadata": {},
   "outputs": [
    {
     "name": "stdout",
     "output_type": "stream",
     "text": [
      "Accuracy: 0.8775510204081632\n",
      "Precision: 0.6666666666666666\n",
      "Recall: 0.5\n",
      "False Negative Rate: 0.08163265306122448\n"
     ]
    }
   ],
   "source": [
    "print(\"Accuracy:\",metrics.accuracy_score(y_test, y_pred_XG)) # ((TP+TN)/total) \n",
    "print(\"Precision:\",metrics.precision_score(y_test, y_pred_XG)) # (TP/(TP + FP)) \n",
    "print(\"Recall:\",metrics.recall_score(y_test, y_pred_XG)) # (TP/(TP + FN)) \n",
    "print(\"False Negative Rate:\",cnf_xgb[1,0]/cnf_xgb.sum()) # (TP/(TP + FN)) "
   ]
  },
  {
   "cell_type": "markdown",
   "metadata": {},
   "source": [
    "# 4) Vyhodnocení  "
   ]
  },
  {
   "cell_type": "code",
   "execution_count": 37,
   "metadata": {},
   "outputs": [
    {
     "name": "stdout",
     "output_type": "stream",
     "text": [
      "Accuracy: 0.8775510204081632\n",
      "Precision: 0.6666666666666666\n",
      "Recall: 0.5\n",
      "False Negative Rate: 0.08163265306122448\n"
     ]
    },
    {
     "data": {
      "text/html": [
       "<div>\n",
       "<style scoped>\n",
       "    .dataframe tbody tr th:only-of-type {\n",
       "        vertical-align: middle;\n",
       "    }\n",
       "\n",
       "    .dataframe tbody tr th {\n",
       "        vertical-align: top;\n",
       "    }\n",
       "\n",
       "    .dataframe thead th {\n",
       "        text-align: right;\n",
       "    }\n",
       "</style>\n",
       "<table border=\"1\" class=\"dataframe\">\n",
       "  <thead>\n",
       "    <tr style=\"text-align: right;\">\n",
       "      <th></th>\n",
       "      <th>Logit</th>\n",
       "      <th>Decision Tree</th>\n",
       "      <th>XGB Logit</th>\n",
       "    </tr>\n",
       "  </thead>\n",
       "  <tbody>\n",
       "    <tr>\n",
       "      <th>Accuracy</th>\n",
       "      <td>0.875283</td>\n",
       "      <td>0.848073</td>\n",
       "      <td>0.877551</td>\n",
       "    </tr>\n",
       "    <tr>\n",
       "      <th>Precision</th>\n",
       "      <td>0.707317</td>\n",
       "      <td>0.580645</td>\n",
       "      <td>0.666667</td>\n",
       "    </tr>\n",
       "    <tr>\n",
       "      <th>Recall</th>\n",
       "      <td>0.402778</td>\n",
       "      <td>0.250000</td>\n",
       "      <td>0.500000</td>\n",
       "    </tr>\n",
       "    <tr>\n",
       "      <th>False Negative Rate</th>\n",
       "      <td>0.097506</td>\n",
       "      <td>0.122449</td>\n",
       "      <td>0.081633</td>\n",
       "    </tr>\n",
       "  </tbody>\n",
       "</table>\n",
       "</div>"
      ],
      "text/plain": [
       "                        Logit  Decision Tree  XGB Logit\n",
       "Accuracy             0.875283       0.848073   0.877551\n",
       "Precision            0.707317       0.580645   0.666667\n",
       "Recall               0.402778       0.250000   0.500000\n",
       "False Negative Rate  0.097506       0.122449   0.081633"
      ]
     },
     "execution_count": 37,
     "metadata": {},
     "output_type": "execute_result"
    }
   ],
   "source": [
    "print(\"Accuracy:\",metrics.accuracy_score(y_test, y_pred_XG)) # ((TP+TN)/total) \n",
    "print(\"Precision:\",metrics.precision_score(y_test, y_pred_XG)) # (TP/(TP + FP)) \n",
    "print(\"Recall:\",metrics.recall_score(y_test, y_pred_XG)) # (TP/(TP + FN)) \n",
    "print(\"False Negative Rate:\",cnf_xgb[1,0]/cnf_xgb.sum()) # (TP/(TP + FN)) \n",
    "\n",
    "\n",
    "acc=np.array([metrics.accuracy_score(y_test, y_pred_log),metrics.accuracy_score(y_test, y_pred_tree),metrics.accuracy_score(y_test, y_pred_XG)])\n",
    "prec=np.array([metrics.precision_score(y_test, y_pred_log),metrics.precision_score(y_test, y_pred_tree),metrics.precision_score(y_test, y_pred_XG)])\n",
    "rec=np.array([metrics.recall_score(y_test, y_pred_log),metrics.recall_score(y_test, y_pred_tree),metrics.recall_score(y_test, y_pred_XG)])\n",
    "FNR=np.array([cnf_log[1,0]/cnf_log.sum(),cnf_tree[1,0]/cnf_tree.sum(),cnf_xgb[1,0]/cnf_xgb.sum()])\n",
    "\n",
    "results_np=np.array([acc,prec,rec,FNR])\n",
    "\n",
    "\n",
    "results = pd.DataFrame(results_np, columns = ['Logit','Decision Tree','XGB Logit'], index = ['Accuracy','Precision','Recall','False Negative Rate'])\n",
    "results"
   ]
  },
  {
   "cell_type": "markdown",
   "metadata": {},
   "source": [
    "### XGB je sice o něco přesnější ale upřednostnili bychom Logit kvůli lepší interpretovatelnosti"
   ]
  }
 ],
 "metadata": {
  "kernelspec": {
   "display_name": "Python 3",
   "language": "python",
   "name": "python3"
  },
  "language_info": {
   "codemirror_mode": {
    "name": "ipython",
    "version": 3
   },
   "file_extension": ".py",
   "mimetype": "text/x-python",
   "name": "python",
   "nbconvert_exporter": "python",
   "pygments_lexer": "ipython3",
   "version": "3.8.8"
  }
 },
 "nbformat": 4,
 "nbformat_minor": 4
}
